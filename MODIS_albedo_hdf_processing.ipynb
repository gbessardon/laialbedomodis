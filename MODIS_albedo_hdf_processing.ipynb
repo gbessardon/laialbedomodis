{
 "cells": [
  {
   "cell_type": "code",
   "execution_count": 16,
   "id": "51a3ce77-7489-4395-843b-0d67fcb7ea44",
   "metadata": {},
   "outputs": [],
   "source": [
    "import gdal\n",
    "import os\n",
    "import datetime"
   ]
  },
  {
   "cell_type": "code",
   "execution_count": 2,
   "id": "355daf95-bed8-4e44-84ce-218283121192",
   "metadata": {},
   "outputs": [],
   "source": [
    "fn='/home/gbessardon/DATA/MCD43A3/061/2018/MCD43A3.A2018175.h16v02.061.2021335155343.hdf'"
   ]
  },
  {
   "cell_type": "code",
   "execution_count": 17,
   "id": "d70af833-9809-421a-90c5-5e2f6145025e",
   "metadata": {},
   "outputs": [],
   "source": [
    "YEAR=2018"
   ]
  },
  {
   "cell_type": "code",
   "execution_count": 23,
   "id": "33498651-35ef-4a7d-b79f-e2a41b3a79d7",
   "metadata": {},
   "outputs": [],
   "source": [
    "import re"
   ]
  },
  {
   "cell_type": "code",
   "execution_count": 33,
   "id": "e70425c2-f20e-48c3-983f-b9ea42882709",
   "metadata": {},
   "outputs": [],
   "source": [
    "tilepattern='.h\\d\\dv\\d\\d.'"
   ]
  },
  {
   "cell_type": "code",
   "execution_count": 34,
   "id": "b6ad73b0-8bd0-48c9-8988-8d581b95a89b",
   "metadata": {},
   "outputs": [
    {
     "name": "stdout",
     "output_type": "stream",
     "text": [
      ".h16v02.\n"
     ]
    }
   ],
   "source": [
    "print(re.search(tilepattern,fn).group())"
   ]
  },
  {
   "cell_type": "code",
   "execution_count": 37,
   "id": "3a31ff91-6c65-411c-872e-97270bd464c5",
   "metadata": {},
   "outputs": [
    {
     "name": "stdout",
     "output_type": "stream",
     "text": [
      ".A2018175.\n"
     ]
    }
   ],
   "source": [
    "datepatern='.A\\d\\d\\d\\d\\d\\d\\d.'\n",
    "print(re.search(datepatern,fn).group())"
   ]
  },
  {
   "cell_type": "code",
   "execution_count": 22,
   "id": "b02ca157-5db9-4488-a494-a4c35719b731",
   "metadata": {},
   "outputs": [
    {
     "data": {
      "text/plain": [
       "'175'"
      ]
     },
     "execution_count": 22,
     "metadata": {},
     "output_type": "execute_result"
    }
   ],
   "source": [
    "fn.split('MCD43A3.A')[1].split('.')[0].split(str(YEAR))[1]"
   ]
  },
  {
   "cell_type": "markdown",
   "id": "82cdd832-8d04-4565-9a01-b46e9b2af505",
   "metadata": {
    "tags": []
   },
   "source": [
    "# Get the list of subdataset\n",
    "hdf gather the different bands as sub datasets"
   ]
  },
  {
   "cell_type": "code",
   "execution_count": 3,
   "id": "21c8e300-ded1-4241-9b1d-27fc4dc57362",
   "metadata": {},
   "outputs": [],
   "source": [
    "sds=gdal.Open(fn).GetSubDatasets()"
   ]
  },
  {
   "cell_type": "markdown",
   "id": "ae13a5c5-0e11-4bc7-937e-3aeeff6cb7ae",
   "metadata": {
    "jp-MarkdownHeadingCollapsed": true,
    "tags": []
   },
   "source": [
    "## Print the list of subdatasets"
   ]
  },
  {
   "cell_type": "code",
   "execution_count": 4,
   "id": "e9310321-645e-469d-9feb-846876e9b4c5",
   "metadata": {},
   "outputs": [
    {
     "name": "stdout",
     "output_type": "stream",
     "text": [
      "0 HDF4_EOS:EOS_GRID:\"/home/gbessardon/DATA/MCD43A3/061/2018/MCD43A3.A2018175.h16v02.061.2021335155343.hdf\":MOD_Grid_BRDF:BRDF_Albedo_Band_Mandatory_Quality_Band1\n",
      "1 HDF4_EOS:EOS_GRID:\"/home/gbessardon/DATA/MCD43A3/061/2018/MCD43A3.A2018175.h16v02.061.2021335155343.hdf\":MOD_Grid_BRDF:BRDF_Albedo_Band_Mandatory_Quality_Band2\n",
      "2 HDF4_EOS:EOS_GRID:\"/home/gbessardon/DATA/MCD43A3/061/2018/MCD43A3.A2018175.h16v02.061.2021335155343.hdf\":MOD_Grid_BRDF:BRDF_Albedo_Band_Mandatory_Quality_Band3\n",
      "3 HDF4_EOS:EOS_GRID:\"/home/gbessardon/DATA/MCD43A3/061/2018/MCD43A3.A2018175.h16v02.061.2021335155343.hdf\":MOD_Grid_BRDF:BRDF_Albedo_Band_Mandatory_Quality_Band4\n",
      "4 HDF4_EOS:EOS_GRID:\"/home/gbessardon/DATA/MCD43A3/061/2018/MCD43A3.A2018175.h16v02.061.2021335155343.hdf\":MOD_Grid_BRDF:BRDF_Albedo_Band_Mandatory_Quality_Band5\n",
      "5 HDF4_EOS:EOS_GRID:\"/home/gbessardon/DATA/MCD43A3/061/2018/MCD43A3.A2018175.h16v02.061.2021335155343.hdf\":MOD_Grid_BRDF:BRDF_Albedo_Band_Mandatory_Quality_Band6\n",
      "6 HDF4_EOS:EOS_GRID:\"/home/gbessardon/DATA/MCD43A3/061/2018/MCD43A3.A2018175.h16v02.061.2021335155343.hdf\":MOD_Grid_BRDF:BRDF_Albedo_Band_Mandatory_Quality_Band7\n",
      "7 HDF4_EOS:EOS_GRID:\"/home/gbessardon/DATA/MCD43A3/061/2018/MCD43A3.A2018175.h16v02.061.2021335155343.hdf\":MOD_Grid_BRDF:BRDF_Albedo_Band_Mandatory_Quality_vis\n",
      "8 HDF4_EOS:EOS_GRID:\"/home/gbessardon/DATA/MCD43A3/061/2018/MCD43A3.A2018175.h16v02.061.2021335155343.hdf\":MOD_Grid_BRDF:BRDF_Albedo_Band_Mandatory_Quality_nir\n",
      "9 HDF4_EOS:EOS_GRID:\"/home/gbessardon/DATA/MCD43A3/061/2018/MCD43A3.A2018175.h16v02.061.2021335155343.hdf\":MOD_Grid_BRDF:BRDF_Albedo_Band_Mandatory_Quality_shortwave\n",
      "10 HDF4_EOS:EOS_GRID:\"/home/gbessardon/DATA/MCD43A3/061/2018/MCD43A3.A2018175.h16v02.061.2021335155343.hdf\":MOD_Grid_BRDF:Albedo_BSA_Band1\n",
      "11 HDF4_EOS:EOS_GRID:\"/home/gbessardon/DATA/MCD43A3/061/2018/MCD43A3.A2018175.h16v02.061.2021335155343.hdf\":MOD_Grid_BRDF:Albedo_BSA_Band2\n",
      "12 HDF4_EOS:EOS_GRID:\"/home/gbessardon/DATA/MCD43A3/061/2018/MCD43A3.A2018175.h16v02.061.2021335155343.hdf\":MOD_Grid_BRDF:Albedo_BSA_Band3\n",
      "13 HDF4_EOS:EOS_GRID:\"/home/gbessardon/DATA/MCD43A3/061/2018/MCD43A3.A2018175.h16v02.061.2021335155343.hdf\":MOD_Grid_BRDF:Albedo_BSA_Band4\n",
      "14 HDF4_EOS:EOS_GRID:\"/home/gbessardon/DATA/MCD43A3/061/2018/MCD43A3.A2018175.h16v02.061.2021335155343.hdf\":MOD_Grid_BRDF:Albedo_BSA_Band5\n",
      "15 HDF4_EOS:EOS_GRID:\"/home/gbessardon/DATA/MCD43A3/061/2018/MCD43A3.A2018175.h16v02.061.2021335155343.hdf\":MOD_Grid_BRDF:Albedo_BSA_Band6\n",
      "16 HDF4_EOS:EOS_GRID:\"/home/gbessardon/DATA/MCD43A3/061/2018/MCD43A3.A2018175.h16v02.061.2021335155343.hdf\":MOD_Grid_BRDF:Albedo_BSA_Band7\n",
      "17 HDF4_EOS:EOS_GRID:\"/home/gbessardon/DATA/MCD43A3/061/2018/MCD43A3.A2018175.h16v02.061.2021335155343.hdf\":MOD_Grid_BRDF:Albedo_BSA_vis\n",
      "18 HDF4_EOS:EOS_GRID:\"/home/gbessardon/DATA/MCD43A3/061/2018/MCD43A3.A2018175.h16v02.061.2021335155343.hdf\":MOD_Grid_BRDF:Albedo_BSA_nir\n",
      "19 HDF4_EOS:EOS_GRID:\"/home/gbessardon/DATA/MCD43A3/061/2018/MCD43A3.A2018175.h16v02.061.2021335155343.hdf\":MOD_Grid_BRDF:Albedo_BSA_shortwave\n",
      "20 HDF4_EOS:EOS_GRID:\"/home/gbessardon/DATA/MCD43A3/061/2018/MCD43A3.A2018175.h16v02.061.2021335155343.hdf\":MOD_Grid_BRDF:Albedo_WSA_Band1\n",
      "21 HDF4_EOS:EOS_GRID:\"/home/gbessardon/DATA/MCD43A3/061/2018/MCD43A3.A2018175.h16v02.061.2021335155343.hdf\":MOD_Grid_BRDF:Albedo_WSA_Band2\n",
      "22 HDF4_EOS:EOS_GRID:\"/home/gbessardon/DATA/MCD43A3/061/2018/MCD43A3.A2018175.h16v02.061.2021335155343.hdf\":MOD_Grid_BRDF:Albedo_WSA_Band3\n",
      "23 HDF4_EOS:EOS_GRID:\"/home/gbessardon/DATA/MCD43A3/061/2018/MCD43A3.A2018175.h16v02.061.2021335155343.hdf\":MOD_Grid_BRDF:Albedo_WSA_Band4\n",
      "24 HDF4_EOS:EOS_GRID:\"/home/gbessardon/DATA/MCD43A3/061/2018/MCD43A3.A2018175.h16v02.061.2021335155343.hdf\":MOD_Grid_BRDF:Albedo_WSA_Band5\n",
      "25 HDF4_EOS:EOS_GRID:\"/home/gbessardon/DATA/MCD43A3/061/2018/MCD43A3.A2018175.h16v02.061.2021335155343.hdf\":MOD_Grid_BRDF:Albedo_WSA_Band6\n",
      "26 HDF4_EOS:EOS_GRID:\"/home/gbessardon/DATA/MCD43A3/061/2018/MCD43A3.A2018175.h16v02.061.2021335155343.hdf\":MOD_Grid_BRDF:Albedo_WSA_Band7\n",
      "27 HDF4_EOS:EOS_GRID:\"/home/gbessardon/DATA/MCD43A3/061/2018/MCD43A3.A2018175.h16v02.061.2021335155343.hdf\":MOD_Grid_BRDF:Albedo_WSA_vis\n",
      "28 HDF4_EOS:EOS_GRID:\"/home/gbessardon/DATA/MCD43A3/061/2018/MCD43A3.A2018175.h16v02.061.2021335155343.hdf\":MOD_Grid_BRDF:Albedo_WSA_nir\n",
      "29 HDF4_EOS:EOS_GRID:\"/home/gbessardon/DATA/MCD43A3/061/2018/MCD43A3.A2018175.h16v02.061.2021335155343.hdf\":MOD_Grid_BRDF:Albedo_WSA_shortwave\n"
     ]
    }
   ],
   "source": [
    "for i,s in enumerate(sds):\n",
    "    print(i,s[0])"
   ]
  },
  {
   "cell_type": "markdown",
   "id": "f32024fc-a9ff-4553-85a6-dba393455744",
   "metadata": {},
   "source": [
    "# Open the different bands"
   ]
  },
  {
   "cell_type": "code",
   "execution_count": 5,
   "id": "2496e036-2e08-45b1-b55c-c2cf8b0802f7",
   "metadata": {},
   "outputs": [],
   "source": [
    "dsBSANIR=gdal.Open(sds[18][0])\n",
    "dsNIRQC=gdal.Open(sds[8][0] )\n",
    "dsBSAVIS=gdal.Open(sds[17][0])\n",
    "dsVISQC=gdal.Open(sds[7][0])"
   ]
  },
  {
   "cell_type": "code",
   "execution_count": 6,
   "id": "a460818f-4738-41a2-b803-8f283887d8c4",
   "metadata": {},
   "outputs": [],
   "source": [
    "geoT = dsBSAVIS.GetGeoTransform()\n",
    "projT = dsBSAVIS.GetProjection()\n",
    "w=dsBSAVIS.RasterXSize\n",
    "h=dsBSAVIS.RasterYSize"
   ]
  },
  {
   "cell_type": "code",
   "execution_count": 7,
   "id": "dabe8f40-b33c-4c8a-a42f-265f0e09e1c1",
   "metadata": {},
   "outputs": [],
   "source": [
    "def create_raster(output_path,columns,rows,nband = 1,gdal_data_type = gdal.GDT_Int16, driver = r'GTiff'):\n",
    "    ''' returns gdal data source raster object\n",
    "\n",
    "    '''\n",
    "    # create driver\n",
    "    driver = gdal.GetDriverByName(driver)\n",
    "\n",
    "    output_raster = driver.Create(output_path,\n",
    "                                  int(columns),\n",
    "                                  int(rows),\n",
    "                                  nband,\n",
    "                                  eType = gdal_data_type)    \n",
    "    return output_raster"
   ]
  },
  {
   "cell_type": "code",
   "execution_count": 8,
   "id": "d9601652-3b73-4fb7-8410-87b432c4a51a",
   "metadata": {},
   "outputs": [],
   "source": [
    "\n",
    "def numpy_array_to_raster(output_path,\n",
    "                          numpy_array,\n",
    "                          geoTin,\n",
    "                          projectionin,\n",
    "                          nband = 1,\n",
    "                          no_data = -9999,\n",
    "                          gdal_data_type = gdal.GDT_Int16,\n",
    "                          driver = r'GTiff'):\n",
    "    ''' returns a gdal raster data source\n",
    "\n",
    "    keyword arguments:\n",
    "\n",
    "    output_path -- full path to the raster to be written to disk\n",
    "    numpy_array -- numpy array containing data to write to raster\n",
    "    geoTin -- geotransform input from ds.GetGetGeoTransform()\n",
    "    projectionin -- projection input from ds.GetProjection()\n",
    "    nband -- the band to write to in the output raster\n",
    "    no_data -- value in numpy array that should be treated as no data\n",
    "    gdal_data_type -- gdal data type of raster (see gdal documentation for list of values)\n",
    "    driver -- string value of the gdal driver to use\n",
    "\n",
    "    '''\n",
    "\n",
    "\n",
    "    rows, columns = numpy_array.shape\n",
    "\n",
    "    # create output raster\n",
    "    output_raster = create_raster(output_path,\n",
    "                                  int(columns),\n",
    "                                  int(rows),\n",
    "                                  nband,\n",
    "                                  gdal_data_type) \n",
    "\n",
    "    geotransform = geoTin\n",
    "\n",
    "\n",
    "    output_raster.SetProjection(projectionin)\n",
    "    output_raster.SetGeoTransform(geotransform)\n",
    "    output_band = output_raster.GetRasterBand(1)\n",
    "    output_band.SetNoDataValue(no_data)\n",
    "    output_band.WriteArray(numpy_array)          \n",
    "    output_band.FlushCache()\n",
    "    output_band.ComputeStatistics(False)\n",
    "\n",
    "    if os.path.exists(output_path) == False:\n",
    "        raise Exception('Failed to create raster: %s' % output_path)\n",
    "\n",
    "    return  "
   ]
  },
  {
   "cell_type": "code",
   "execution_count": 9,
   "id": "f4862480-0904-492e-9fee-00060b68bf5d",
   "metadata": {},
   "outputs": [],
   "source": [
    "for item,value in dsBSANIR.GetMetadata_Dict().items():\n",
    "    if item=='add_offset':\n",
    "        offset=int(value)\n",
    "    if item=='scale_factor':\n",
    "        scale_factor=float(value)\n",
    "    if item=='_FillValue':\n",
    "        fillvalue=int(value)"
   ]
  },
  {
   "cell_type": "code",
   "execution_count": 10,
   "id": "28a90d77-df16-4149-8ec0-d65681a7b4f1",
   "metadata": {},
   "outputs": [],
   "source": [
    "numpy_array_to_raster(os.path.join(os.getcwd(),'test.tif'),\n",
    "                      dsBSANIR.ReadAsArray(),\n",
    "                      geoT,\n",
    "                      projT,\n",
    "                      nband = 1,\n",
    "                      no_data = fillvalue,\n",
    "                      gdal_data_type = gdal.GDT_Int16,\n",
    "                      driver = r'GTiff')"
   ]
  },
  {
   "cell_type": "code",
   "execution_count": null,
   "id": "79886f25-6bd9-4b03-bf6c-a001ab75f3cb",
   "metadata": {},
   "outputs": [],
   "source": [
    "gdal.Translate('test.tif',NIRQC,format='Gtiff')"
   ]
  },
  {
   "cell_type": "code",
   "execution_count": null,
   "id": "d255744d-b211-4981-8f1c-ff5a61d487a4",
   "metadata": {},
   "outputs": [],
   "source": [
    "ds=gdal.Open('test.tif')"
   ]
  },
  {
   "cell_type": "code",
   "execution_count": null,
   "id": "c41fd8ad-0646-4cba-a989-f1cc16ecc209",
   "metadata": {},
   "outputs": [],
   "source": [
    "ds.ReadAsArray()"
   ]
  },
  {
   "cell_type": "code",
   "execution_count": null,
   "id": "8ecdc236-88cf-4164-aedb-989f4fdb8294",
   "metadata": {},
   "outputs": [],
   "source": [
    "vi_np=BSANIR.ReadAsArray()\n",
    "QA_np =NIRQC.ReadAsArray()"
   ]
  },
  {
   "cell_type": "code",
   "execution_count": null,
   "id": "12431825-05a7-45fe-86ff-368483430917",
   "metadata": {},
   "outputs": [],
   "source": [
    "# Clean data\n",
    "vi_np[np.logical_and(QA_np != 0, QA_np != 1)] = -3000\n",
    "# De-allocate QA array\n",
    "QA_np = None"
   ]
  },
  {
   "cell_type": "code",
   "execution_count": null,
   "id": "86d3f9ff-aa8d-4cd3-8319-dca68c0e86fa",
   "metadata": {},
   "outputs": [],
   "source": [
    "help(BSAVIS.GetProjection)"
   ]
  },
  {
   "cell_type": "code",
   "execution_count": null,
   "id": "45408e50-3ba7-4312-aba0-3ca3d6891d6b",
   "metadata": {},
   "outputs": [],
   "source": []
  }
 ],
 "metadata": {
  "kernelspec": {
   "display_name": "Python 3 (ipykernel)",
   "language": "python",
   "name": "python3"
  },
  "language_info": {
   "codemirror_mode": {
    "name": "ipython",
    "version": 3
   },
   "file_extension": ".py",
   "mimetype": "text/x-python",
   "name": "python",
   "nbconvert_exporter": "python",
   "pygments_lexer": "ipython3",
   "version": "3.9.6"
  }
 },
 "nbformat": 4,
 "nbformat_minor": 5
}
