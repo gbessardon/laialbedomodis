{
 "cells": [
  {
   "cell_type": "markdown",
   "id": "c4bd81e6-0474-4b04-84d3-9ebda9b85ba2",
   "metadata": {
    "tags": []
   },
   "source": [
    "# EXTRA information\n",
    "before staring need to create a .netrc file\n",
    "\"\n",
    "> touch .netrc\n",
    "\n",
    "> echo \"machine urs.earthdata.nasa.gov login USERNAME password PASSWORD \" > .netrc\n",
    "\n",
    "> chmod 0600 .netrc\n",
    "\n",
    "\"\n",
    "https://earthdata.readthedocs.io/en/latest/"
   ]
  },
  {
   "cell_type": "code",
   "execution_count": null,
   "id": "3b162fa3-9bc6-46d3-905a-ff30e54110fd",
   "metadata": {},
   "outputs": [],
   "source": [
    "from earthdata import Auth, DataGranules, DataCollections, Store\n",
    "import os"
   ]
  },
  {
   "cell_type": "code",
   "execution_count": null,
   "id": "86e6e5cb-346f-4b96-acdf-726c9a334493",
   "metadata": {},
   "outputs": [],
   "source": [
    "auth = Auth().login(strategy=\"netrc\") # if we want to access NASA DATA in the cloud"
   ]
  },
  {
   "cell_type": "markdown",
   "id": "0b085b7b-c533-436d-9f6a-ada979c4ebe1",
   "metadata": {},
   "source": [
    "# Search details"
   ]
  },
  {
   "cell_type": "code",
   "execution_count": null,
   "id": "0227f353-2c08-4912-800e-e8e7444e919b",
   "metadata": {},
   "outputs": [],
   "source": [
    "SHORTNAME=\"MCD43A3\"\n",
    "COLLECTION='061'\n",
    "YEAR='2018'\n",
    "STMONTH='07'\n",
    "ENDMONTH='09'\n",
    "STARTDATE=YEAR+'-'+STMONTH+'-01'\n",
    "ENDDATE=YEAR+'-'+ENDMONTH+'-01'\n",
    "MINLON=-180\n",
    "MINLAT=70\n",
    "MAXLON=180\n",
    "MAXLAT=90\n",
    "CLOUDMIN=0\n",
    "CLOUDMAX=10\n",
    "localdir=os.path.join(os.getcwd(),SHORTNAME,COLLECTION,YEAR)"
   ]
  },
  {
   "cell_type": "markdown",
   "id": "3cfa4b6d-d11b-4e5d-888b-6f7883659ffc",
   "metadata": {},
   "source": [
    "# Create the Query"
   ]
  },
  {
   "cell_type": "code",
   "execution_count": null,
   "id": "f687a664-be30-446c-91a8-8f3faec1ee47",
   "metadata": {},
   "outputs": [],
   "source": [
    "granules=DataGranules().short_name(SHORTNAME).version(COLLECTION)\n",
    "granules=granules.temporal(STARTDATE, ENDDATE).bounding_box(MINLON,MINLAT,MAXLON,MAXLAT)\n",
    "print(granules.hits())\n",
    "GranuleQuery=granules.cloud_cover(min_cover=CLOUDMIN,max_cover=CLOUDMAX)\n",
    "print(GranuleQuery.hits())\n",
    "\n",
    "GQ = GranuleQuery.get()"
   ]
  },
  {
   "cell_type": "markdown",
   "id": "1610f37e-1727-47c8-a7eb-0d83f09c760b",
   "metadata": {},
   "source": [
    "# Download the files"
   ]
  },
  {
   "cell_type": "code",
   "execution_count": null,
   "id": "89ee7da4-33a3-4285-b3f3-d215bf2fe714",
   "metadata": {},
   "outputs": [],
   "source": [
    "files = Store(auth).get(GQ, local_path=localdir)"
   ]
  }
 ],
 "metadata": {
  "kernelspec": {
   "display_name": "Python 3 (ipykernel)",
   "language": "python",
   "name": "python3"
  },
  "language_info": {
   "codemirror_mode": {
    "name": "ipython",
    "version": 3
   },
   "file_extension": ".py",
   "mimetype": "text/x-python",
   "name": "python",
   "nbconvert_exporter": "python",
   "pygments_lexer": "ipython3",
   "version": "3.9.6"
  },
  "toc-autonumbering": true,
  "toc-showcode": true
 },
 "nbformat": 4,
 "nbformat_minor": 5
}
