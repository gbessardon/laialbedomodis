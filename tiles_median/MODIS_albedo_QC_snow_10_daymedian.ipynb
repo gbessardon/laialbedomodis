{
 "cells": [
  {
   "cell_type": "code",
   "execution_count": 1,
   "id": "47b239c1-e314-463e-b796-77e6ae78c309",
   "metadata": {},
   "outputs": [],
   "source": [
    "import gdal\n",
    "from matplotlib import pyplot as plt\n",
    "import numpy as np\n",
    "import os\n",
    "import re\n",
    "import pandas as pd"
   ]
  },
  {
   "cell_type": "markdown",
   "id": "e3157c2d-1743-4cf7-a89b-d4a39259eaeb",
   "metadata": {},
   "source": [
    "# Declare the MCD43A3 folder"
   ]
  },
  {
   "cell_type": "code",
   "execution_count": 2,
   "id": "97cd935d-3ada-4883-8590-c5b7e8daa333",
   "metadata": {},
   "outputs": [],
   "source": [
    "\"\"\"\n",
    "Collection dir is assumed to contain a folder of each year of the product\n",
    "\n",
    "\"\"\"\n",
    "OUTPUTDIR='tilesDIR'\n",
    "DATADIR='/home/gbessardon/DATA'\n",
    "SHORTNAME='MCD43A3'\n",
    "COLLECTION='061'\n",
    "collectiondir=os.path.join(DATADIR,SHORTNAME,COLLECTION)\n",
    "years=['2020', '2021', '2018', '2019','2017']"
   ]
  },
  {
   "cell_type": "markdown",
   "id": "3f330a7a-41c0-42d7-abaf-7cbd38316185",
   "metadata": {
    "tags": []
   },
   "source": [
    "# Function to read the hdf file metadata"
   ]
  },
  {
   "cell_type": "code",
   "execution_count": 3,
   "id": "cb7edb6d-60ba-4c5a-a7a6-bb070068a942",
   "metadata": {},
   "outputs": [],
   "source": [
    "def extract_metadata(ds):\n",
    "    geoT = ds.GetGeoTransform()\n",
    "    projT = ds.GetProjection()\n",
    "    w=ds.RasterXSize\n",
    "    h=ds.RasterYSize\n",
    "    offset=0\n",
    "    scale_factor=1\n",
    "    fillvalue=9999\n",
    "    for item,value in ds.GetMetadata_Dict().items():\n",
    "        if item=='add_offset':\n",
    "            offset=int(value)\n",
    "        if item=='scale_factor':\n",
    "            scale_factor=float(value)\n",
    "        if item=='_FillValue':\n",
    "            fillvalue=int(value)\n",
    "    return(offset,scale_factor,fillvalue,geoT,projT,w,h)"
   ]
  },
  {
   "cell_type": "markdown",
   "id": "5829f940-20ea-465b-848e-667311841581",
   "metadata": {},
   "source": [
    "# Function to clean the data"
   ]
  },
  {
   "cell_type": "code",
   "execution_count": 4,
   "id": "748e986a-0d60-4e52-ba2f-1c9698217ea8",
   "metadata": {},
   "outputs": [],
   "source": [
    "def clean_data(ds,dsQC,add_offset=0,scale_factor=1,fillvalue=9999,fillQC=9999,maxQC=1,ECOSGscale_factor=100):\n",
    "    # apply the desired QC value\n",
    "    QC_np=dsQC.ReadAsArray()\n",
    "    if fillQC<maxQC:\n",
    "        QC_np[QC_np==fillQC]=maxQC+1\n",
    "    B_np=ds.ReadAsArray()\n",
    "    B_np[QC_np>maxQC]=fillvalue\n",
    "    QC_np=None\n",
    "    # apply the offset and the scale factor and set it to ECOSG\n",
    "    B_np = scale_factor * (B_np - add_offset)*ECOSGscale_factor\n",
    "    new_fill=scale_factor*(fillvalue- add_offset)*ECOSGscale_factor\n",
    "    return (B_np,new_fill)\n",
    "    "
   ]
  },
  {
   "cell_type": "code",
   "execution_count": 5,
   "id": "930c667b-3946-4613-b0f2-baeb91540a99",
   "metadata": {},
   "outputs": [],
   "source": [
    "def snow_free(data_ar,dssnow,fillv=9999,fillsnow=9999,maxsnow=0):\n",
    "    Arsnow=dssnow.ReadAsArray()\n",
    "    datasnow=fillv+0*data_ar\n",
    "    if fillsnow<maxsnow:\n",
    "        Arsnow[Arsnow==fillsnow]=maxsnow+1\n",
    "    datasnow[Arsnow<=maxsnow]=data_ar[Arsnow<=maxsnow]\n",
    "    return datasnow\n",
    "        "
   ]
  },
  {
   "cell_type": "code",
   "execution_count": 6,
   "id": "4372f71f-1599-4320-97e2-60043d69720d",
   "metadata": {},
   "outputs": [],
   "source": [
    "def onefilefilter_treatment(fn,maxdataQC,maxsnowQC,visband=28,visQCband=7,\n",
    "                            nirband=29,nirQCband=8,snowA2band=0,ECOSGsf=100):\n",
    "    \"\"\"\n",
    "    INPUTS:\n",
    "    fn: the MCD43A3 file path\n",
    "    maxdataQC: the maximum QC value in the MCD43A3 QC band allowed (same for nir and vis in this version)\n",
    "    maxsnowQC: maximum QC value in the MCD43A2 band\n",
    "    visband: visible band location in the MCD43A3 file\n",
    "    visQCband: visible band quality control location in the MCD43A3 file\n",
    "    nirband: near-infrared band location in the MCD43A3 file\n",
    "    nirQCband: near-infrared band quality control location in the MCD43A3 file\n",
    "    ECOSGsf: scale factor in ECOCLIMAP-SG files\n",
    "    \n",
    "    \n",
    "    OUTPUTS:\n",
    "    VIS_np: numpy array cleaned \n",
    "    fillv:  fill value of VIS_np\n",
    "    VIS_Sfree_np: VIS_np with snow_filter applied\n",
    "    \n",
    "    NIR_np: numpy array cleaned \n",
    "    filln: fill value of NIR_np\n",
    "    NIR_Sfree_np: NIR_np with snow_filter applied\n",
    "    \n",
    "    geoT: file geotransform details\n",
    "    projT: file projection details\n",
    "    w: width of the file array\n",
    "    h: height of the file array\n",
    "    \"\"\"\n",
    "    #get the snow filter data\n",
    "    fnA2=fn.replace('MCD43A3','MCD43A2')\n",
    "    sdsA2=gdal.Open(fnA2).GetSubDatasets()\n",
    "    dssnow=gdal.Open(sdsA2[snowA2band][0])\n",
    "    ofsnow,sfsnow,filsnow,geoTsnow,projsnow,wsnow,hsnow=extract_metadata(dssnow)\n",
    "    \n",
    "    # Open and filter the visible data\n",
    "    sds=gdal.Open(fn).GetSubDatasets()\n",
    "    dsBSAVIS=gdal.Open(sds[visband][0])\n",
    "    dsVISQC=gdal.Open(sds[visQCband][0])\n",
    "    offVIS,sfVIS,fillvis,geoT,projT,w,h=extract_metadata(dsBSAVIS)\n",
    "    _,_,fillvisQC,geoT,projT,w,h=extract_metadata(dsVISQC)\n",
    "    VIS_np,fillv=clean_data(dsBSAVIS,dsVISQC,offVIS,sfVIS,fillvis,fillvisQC,maxQC=maxdataQC,ECOSGscale_factor=ECOSGsf)\n",
    "\n",
    "    # filter snow data in visible file\n",
    "    VIS_Sfree_np=snow_free(VIS_np,dssnow,fillv,filsnow,maxsnowQC)\n",
    "    # Clear the visible visible QC gdal datasets\n",
    "    dsVISQC=None\n",
    "    dsBSAVIS=None\n",
    "    # Open and filter the nir data\n",
    "    dsBSANIR=gdal.Open(sds[nirband][0])\n",
    "    dsNIRQC=gdal.Open(sds[8][0] )\n",
    "    offNIR,sfNIR,fillnir,_,_,_,_=extract_metadata(dsBSANIR)\n",
    "    _,_,fillnirQC,_,_,_,_=extract_metadata(dsNIRQC)\n",
    "    NIR_np,filln=clean_data(dsBSANIR,dsNIRQC,offNIR,sfNIR,fillnir,fillnirQC,maxQC=maxdataQC,ECOSGscale_factor=ECOSGsf)\n",
    "\n",
    "    # filter snow data in nir file\n",
    "    NIR_Sfree_np=snow_free(NIR_np,dssnow,filln,filsnow,maxsnowQC)\n",
    "    dsBSANIR=None\n",
    "    dsBSAVIS=None\n",
    "    return (VIS_np,VIS_Sfree_np,fillv, NIR_np,NIR_Sfree_np,filln,geoT,projT,w,h)"
   ]
  },
  {
   "cell_type": "markdown",
   "id": "54868edd-b7be-4518-ae7e-76c2ed3e3c23",
   "metadata": {},
   "source": [
    "# Functions to Create raster from numpy array"
   ]
  },
  {
   "cell_type": "code",
   "execution_count": 7,
   "id": "1d05de46-bd0b-4b0a-9f33-18bee7b7d06c",
   "metadata": {},
   "outputs": [],
   "source": [
    "def create_raster(output_path,columns,rows,nband = 1,gdal_data_type = gdal.GDT_Int16, driver = r'GTiff'):\n",
    "    ''' returns gdal data source raster object\n",
    "\n",
    "    '''\n",
    "    # create driver\n",
    "    driver = gdal.GetDriverByName(driver)\n",
    "\n",
    "    output_raster = driver.Create(output_path,\n",
    "                                  int(columns),\n",
    "                                  int(rows),\n",
    "                                  nband,\n",
    "                                  eType = gdal_data_type)    \n",
    "    return output_raster"
   ]
  },
  {
   "cell_type": "code",
   "execution_count": 8,
   "id": "e9522a73-b973-4688-9857-aba580ce578b",
   "metadata": {},
   "outputs": [],
   "source": [
    "def numpy_array_to_raster(output_path,\n",
    "                          numpy_array,\n",
    "                          geoTin,\n",
    "                          projectionin,\n",
    "                          nband = 1,\n",
    "                          no_data = -9999,\n",
    "                          gdal_data_type = gdal.GDT_Int16,\n",
    "                          driver = r'GTiff'):\n",
    "    ''' returns a gdal raster data source\n",
    "\n",
    "    keyword arguments:\n",
    "\n",
    "    output_path -- full path to the raster to be written to disk\n",
    "    numpy_array -- numpy array containing data to write to raster\n",
    "    geoTin -- geotransform input from ds.GetGetGeoTransform()\n",
    "    projectionin -- projection input from ds.GetProjection()\n",
    "    nband -- the band to write to in the output raster\n",
    "    no_data -- value in numpy array that should be treated as no data\n",
    "    gdal_data_type -- gdal data type of raster (see gdal documentation for list of values)\n",
    "    driver -- string value of the gdal driver to use\n",
    "\n",
    "    '''\n",
    "\n",
    "\n",
    "    rows, columns = numpy_array.shape\n",
    "\n",
    "    # create output raster\n",
    "    output_raster = create_raster(output_path,\n",
    "                                  int(columns),\n",
    "                                  int(rows),\n",
    "                                  nband,\n",
    "                                  gdal_data_type) \n",
    "\n",
    "    geotransform = geoTin\n",
    "\n",
    "\n",
    "    output_raster.SetProjection(projectionin)\n",
    "    output_raster.SetGeoTransform(geotransform)\n",
    "    output_band = output_raster.GetRasterBand(1)\n",
    "    output_band.SetNoDataValue(no_data)\n",
    "    output_band.WriteArray(numpy_array)          \n",
    "    output_band.FlushCache()\n",
    "    output_band.ComputeStatistics(False)\n",
    "\n",
    "    if os.path.exists(output_path) == False:\n",
    "        raise Exception('Failed to create raster: %s' % output_path)\n",
    "\n",
    "    return  "
   ]
  },
  {
   "cell_type": "markdown",
   "id": "22deefe9-ae82-433e-a186-a35dd9504876",
   "metadata": {},
   "source": [
    "# Main part"
   ]
  },
  {
   "cell_type": "markdown",
   "id": "b440f188-4ce6-44b8-8aa7-6af8476fe1b4",
   "metadata": {},
   "source": [
    "## Create dataframe with the different files available and sort them by tile and 10days period"
   ]
  },
  {
   "cell_type": "code",
   "execution_count": 9,
   "id": "90a9994f-0543-427f-bcba-d1150607918c",
   "metadata": {},
   "outputs": [],
   "source": [
    "filelistMCD43A3=[os.path.join(collectiondir,y,f) for y in years for f in os.listdir(os.path.join(collectiondir,y)) if os.path.isfile(os.path.join(collectiondir,y,f).replace('MCD43A3','MCD43A2'))]"
   ]
  },
  {
   "cell_type": "code",
   "execution_count": 10,
   "id": "a0fa4fd6-5b8a-49c1-bc5c-27c623d36975",
   "metadata": {},
   "outputs": [],
   "source": [
    "ECOSGdates=['0105', '0115', '0125', '0205', '0215', '0225', '0305', '0315',\n",
    "            '0325', '0405', '0415', '0425', '0505', '0515', '0525', '0605',\n",
    "            '0615', '0625', '0705', '0715', '0725', '0805', '0815', '0825',\n",
    "            '0905', '0915', '0925', '1005', '1015', '1025', '1105', '1115',\n",
    "            '1125', '1205', '1215', '1225',]"
   ]
  },
  {
   "cell_type": "code",
   "execution_count": 11,
   "id": "3ca4cade-59c7-4723-ae3a-77a38f312e16",
   "metadata": {},
   "outputs": [],
   "source": [
    "tilepattern='.h\\d\\dv\\d\\d'\n",
    "tilelist= [re.search(tilepattern,f).group() for f in filelistMCD43A3]\n",
    "hlist=[int(t.split('h')[1].split('v')[0]) for t in tilelist]\n",
    "vlist=[int(t.split('h')[1].split('v')[1]) for t in tilelist]\n",
    "dayspattern='.A\\d\\d\\d\\d\\d\\d\\d'\n",
    "dayslist= [re.search(dayspattern,f).group() for f in filelistMCD43A3]\n",
    "yearlist=[int(d[2:6]) for d in dayslist]\n",
    "juliandays=[int(d[6:9]) for d in dayslist]\n",
    "julian10daysclass=[int((j/365)*36) for j in juliandays]\n",
    "ECOSG10days=[ECOSGdates[j10] for j10 in julian10daysclass]\n",
    "data = {'filename':filelistMCD43A3, 'tile':tilelist,'htile':hlist,'vtile':vlist,\n",
    "        'year':yearlist,'julianday':juliandays,'julian10days':julian10daysclass,\n",
    "        'ecosg10':ECOSG10days}\n",
    "df=pd.DataFrame(data)\n",
    "groupeddftilejuliandays=df.groupby(['htile','vtile','ecosg10'])"
   ]
  },
  {
   "cell_type": "markdown",
   "id": "08911412-1cd2-49a9-9d3c-49abc092c8ec",
   "metadata": {},
   "source": [
    "## Loop over the group aplly quality filter and calculate the 10-day mean"
   ]
  },
  {
   "cell_type": "code",
   "execution_count": null,
   "id": "2a84448e-8f76-47fe-899d-82fa613602f6",
   "metadata": {},
   "outputs": [
    {
     "name": "stdout",
     "output_type": "stream",
     "text": [
      "(11, 2, '0625')\n",
      "(11, 2, '0705')\n"
     ]
    },
    {
     "name": "stderr",
     "output_type": "stream",
     "text": [
      "ERROR 4: `/home/gbessardon/DATA/MCD43A2/061/2021/MCD43A2.A2021183.h11v02.061.2021192063118.hdf' not recognized as a supported file format.\n"
     ]
    },
    {
     "name": "stdout",
     "output_type": "stream",
     "text": [
      "(11, 2, '0715')\n"
     ]
    },
    {
     "name": "stderr",
     "output_type": "stream",
     "text": [
      "ERROR 4: `/home/gbessardon/DATA/MCD43A3/061/2020/MCD43A3.A2020193.h11v02.061.2020349085031.hdf' not recognized as a supported file format.\n"
     ]
    },
    {
     "name": "stdout",
     "output_type": "stream",
     "text": [
      "(11, 2, '0725')\n",
      "(11, 2, '0805')\n",
      "(11, 2, '0815')\n",
      "(11, 2, '0825')\n",
      "(11, 2, '0905')\n",
      "(12, 1, '0625')\n"
     ]
    },
    {
     "name": "stderr",
     "output_type": "stream",
     "text": [
      "ERROR 4: `/home/gbessardon/DATA/MCD43A3/061/2018/MCD43A3.A2018177.h12v01.061.2021336165058.hdf' not recognized as a supported file format.\n"
     ]
    },
    {
     "name": "stdout",
     "output_type": "stream",
     "text": [
      "(12, 1, '0705')\n",
      "(12, 1, '0715')\n",
      "(12, 1, '0725')\n",
      "(12, 1, '0805')\n",
      "(12, 1, '0815')\n",
      "(12, 1, '0825')\n",
      "(12, 1, '0905')\n"
     ]
    },
    {
     "name": "stderr",
     "output_type": "stream",
     "text": [
      "ERROR 4: `/home/gbessardon/DATA/MCD43A3/061/2021/MCD43A3.A2021248.h12v01.061.2021257055917.hdf' not recognized as a supported file format.\n"
     ]
    },
    {
     "name": "stdout",
     "output_type": "stream",
     "text": [
      "(12, 2, '0625')\n",
      "(12, 2, '0705')\n",
      "(12, 2, '0715')\n",
      "(12, 2, '0725')\n",
      "(12, 2, '0805')\n",
      "(12, 2, '0815')\n",
      "(12, 2, '0825')\n",
      "(12, 2, '0905')\n",
      "(13, 1, '0625')\n",
      "(13, 1, '0705')\n",
      "(13, 1, '0715')\n",
      "(13, 1, '0725')\n",
      "(13, 1, '0805')\n",
      "(13, 1, '0815')\n",
      "(13, 1, '0825')\n",
      "(13, 1, '0905')\n",
      "(13, 2, '0625')\n",
      "(13, 2, '0705')\n",
      "(13, 2, '0715')\n"
     ]
    },
    {
     "name": "stderr",
     "output_type": "stream",
     "text": [
      "ERROR 4: `/home/gbessardon/DATA/MCD43A3/061/2020/MCD43A3.A2020193.h13v02.061.2020349093546.hdf' not recognized as a supported file format.\n"
     ]
    },
    {
     "name": "stdout",
     "output_type": "stream",
     "text": [
      "(13, 2, '0725')\n",
      "(13, 2, '0805')\n",
      "(13, 2, '0815')\n",
      "(13, 2, '0825')\n",
      "(13, 2, '0905')\n"
     ]
    },
    {
     "name": "stderr",
     "output_type": "stream",
     "text": [
      "ERROR 4: `/home/gbessardon/DATA/MCD43A3/061/2021/MCD43A3.A2021248.h13v02.061.2021257060037.hdf' not recognized as a supported file format.\n"
     ]
    },
    {
     "name": "stdout",
     "output_type": "stream",
     "text": [
      "(14, 1, '0625')\n",
      "(14, 1, '0705')\n",
      "(14, 1, '0715')\n",
      "(14, 1, '0725')\n",
      "(14, 1, '0805')\n",
      "(14, 1, '0815')\n",
      "(14, 1, '0825')\n",
      "(14, 1, '0905')\n",
      "(14, 2, '0625')\n",
      "(14, 2, '0705')\n",
      "(14, 2, '0715')\n"
     ]
    },
    {
     "name": "stderr",
     "output_type": "stream",
     "text": [
      "ERROR 4: `/home/gbessardon/DATA/MCD43A3/061/2020/MCD43A3.A2020193.h14v02.061.2020345053143.hdf' not recognized as a supported file format.\n"
     ]
    },
    {
     "name": "stdout",
     "output_type": "stream",
     "text": [
      "(14, 2, '0725')\n",
      "(14, 2, '0805')\n",
      "(14, 2, '0815')\n",
      "(14, 2, '0825')\n",
      "(14, 2, '0905')\n",
      "(15, 1, '0625')\n",
      "(15, 1, '0705')\n"
     ]
    },
    {
     "name": "stderr",
     "output_type": "stream",
     "text": [
      "ERROR 4: `/home/gbessardon/DATA/MCD43A3/061/2021/MCD43A3.A2021192.h15v01.061.2021201065549.hdf' not recognized as a supported file format.\n"
     ]
    },
    {
     "name": "stdout",
     "output_type": "stream",
     "text": [
      "(15, 1, '0715')\n",
      "(15, 1, '0725')\n",
      "(15, 1, '0805')\n",
      "(15, 1, '0815')\n",
      "(15, 1, '0825')\n",
      "(15, 1, '0905')\n",
      "(15, 2, '0625')\n",
      "(15, 2, '0705')\n",
      "(15, 2, '0715')\n",
      "(15, 2, '0725')\n",
      "(15, 2, '0805')\n",
      "(15, 2, '0815')\n",
      "(15, 2, '0825')\n",
      "(15, 2, '0905')\n",
      "(16, 0, '0625')\n",
      "(16, 0, '0705')\n",
      "(16, 0, '0715')\n",
      "(16, 0, '0725')\n",
      "(16, 0, '0805')\n",
      "(16, 0, '0815')\n",
      "(16, 0, '0825')\n",
      "(16, 0, '0905')\n",
      "(16, 1, '0625')\n",
      "(16, 1, '0705')\n",
      "(16, 1, '0715')\n",
      "(16, 1, '0725')\n",
      "(16, 1, '0805')\n",
      "(16, 1, '0815')\n",
      "(16, 1, '0825')\n",
      "(16, 1, '0905')\n",
      "(16, 2, '0625')\n",
      "(16, 2, '0705')\n",
      "(16, 2, '0715')\n",
      "(16, 2, '0725')\n",
      "(16, 2, '0805')\n",
      "(16, 2, '0815')\n",
      "(16, 2, '0825')\n",
      "(16, 2, '0905')\n",
      "(17, 0, '0625')\n",
      "(17, 0, '0705')\n",
      "(17, 0, '0715')\n",
      "(17, 0, '0725')\n"
     ]
    }
   ],
   "source": [
    "outpath=os.path.join(os.getcwd(),OUTPUTDIR)\n",
    "if not os.path.isdir(outpath):\n",
    "    os.mkdir(outpath)\n",
    "\n",
    "files_issuelist=[]\n",
    "for name, group in groupeddftilejuliandays:\n",
    "        VISlist=[]\n",
    "        VISsnowfreelist=[]\n",
    "        NIRlist=[]\n",
    "        NIRsnowfreelist=[]\n",
    "        print(name)\n",
    "        for i,fn in enumerate(group.filename):\n",
    "            try:\n",
    "                VIS_np,VIS_Sfree_np,fillv, NIR_np,NIR_Sfree_np,filln,geoT,projT,w,h=onefilefilter_treatment(fn,1,0)\n",
    "                VISlist.append(np.ma.masked_array(VIS_np,VIS_np==fillv))\n",
    "                VISsnowfreelist.append(np.ma.masked_array(VIS_Sfree_np,VIS_Sfree_np==fillv))\n",
    "                NIRlist.append(np.ma.masked_array(NIR_np,NIR_np==filln))\n",
    "                NIRsnowfreelist.append(np.ma.masked_array(NIR_Sfree_np,NIR_Sfree_np==filln))\n",
    "            except:\n",
    "                files_issuelist.append(fn)\n",
    "        VIS_median=np.ma.median(np.ma.stack(VISlist),axis=0,overwrite_input=True)\n",
    "        numpy_array_to_raster(os.path.join(outpath,'vis_h'+str(name[0])+'v'+str(name[1])+'jd'+str(name[2])+'.tif'),\n",
    "                              VIS_median,geoT,projT,nband = 1,no_data = fillv,gdal_data_type = gdal.GDT_Int16,driver = r'GTiff')\n",
    "        VISsf_median=np.ma.median(np.ma.stack(VISsnowfreelist),axis=0,overwrite_input=True)\n",
    "        numpy_array_to_raster(os.path.join(outpath,'vis_sf_h'+str(name[0])+'v'+str(name[1])+'jd'+str(name[2])+'.tif'),\n",
    "                              VISsf_median,geoT,projT,nband = 1,no_data = fillv,gdal_data_type = gdal.GDT_Int16,driver = r'GTiff')\n",
    "        NIR_median=np.ma.median(np.ma.stack(NIRlist),axis=0,overwrite_input=True)\n",
    "        numpy_array_to_raster(os.path.join(outpath,'nir_h'+str(name[0])+'v'+str(name[1])+'jd'+str(name[2])+'.tif'),\n",
    "                              NIR_median,geoT,projT,nband = 1,no_data = fillv,gdal_data_type = gdal.GDT_Int16,driver = r'GTiff')\n",
    "        NIRsf_median=np.ma.median(np.ma.stack(NIRsnowfreelist),axis=0,overwrite_input=True)\n",
    "        numpy_array_to_raster(os.path.join(outpath,'nir_h'+str(name[0])+'v'+str(name[1])+'jd'+str(name[2])+'.tif'),\n",
    "                              NIRsf_median,geoT,projT,nband = 1,no_data = fillv,gdal_data_type = gdal.GDT_Int16,driver = r'GTiff')"
   ]
  }
 ],
 "metadata": {
  "kernelspec": {
   "display_name": "Python 3 (ipykernel)",
   "language": "python",
   "name": "python3"
  },
  "language_info": {
   "codemirror_mode": {
    "name": "ipython",
    "version": 3
   },
   "file_extension": ".py",
   "mimetype": "text/x-python",
   "name": "python",
   "nbconvert_exporter": "python",
   "pygments_lexer": "ipython3",
   "version": "3.9.6"
  }
 },
 "nbformat": 4,
 "nbformat_minor": 5
}
