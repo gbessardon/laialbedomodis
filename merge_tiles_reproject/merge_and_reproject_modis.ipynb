{
 "cells": [
  {
   "cell_type": "code",
   "execution_count": 1,
   "id": "92b66dce-2571-47d5-aa38-a98b287a6ce7",
   "metadata": {},
   "outputs": [],
   "source": [
    "import numpy as np\n",
    "import pandas as pd\n",
    "import gdal\n",
    "from matplotlib import pyplot as plt\n",
    "import os\n",
    "import re\n",
    "import rasterio\n",
    "from rasterio.merge import merge\n",
    "from rasterio.plot import show"
   ]
  },
  {
   "cell_type": "markdown",
   "id": "ccca8f23-0e7a-4b60-b8ee-8efa79054baa",
   "metadata": {},
   "source": [
    "# Declare direcory with all the 10 days tiles tif file"
   ]
  },
  {
   "cell_type": "code",
   "execution_count": 2,
   "id": "9c25a65b-7960-4080-837b-8cc1d6950a4b",
   "metadata": {},
   "outputs": [],
   "source": [
    "directory='/home/gbessardon/DATA/laialebdomodis/tilesDIR'"
   ]
  },
  {
   "cell_type": "markdown",
   "id": "96339d56-ed11-452c-97a2-9948e5aa0fcf",
   "metadata": {},
   "source": [
    "# Declare output dir"
   ]
  },
  {
   "cell_type": "code",
   "execution_count": 3,
   "id": "cfcc7efc-eaba-4e51-8e5e-74c173b750af",
   "metadata": {},
   "outputs": [],
   "source": [
    "outputdir='/home/gbessardon/DATA/laialebdomodis/mosaicDIR'"
   ]
  },
  {
   "cell_type": "markdown",
   "id": "cd35a1df-9af5-4d35-8237-539015bc85bc",
   "metadata": {},
   "source": [
    "# Identify files visible nir files and days"
   ]
  },
  {
   "cell_type": "markdown",
   "id": "47754654-4509-4abe-875d-3bf21867047a",
   "metadata": {},
   "source": [
    "## Identify days in the days in a filename"
   ]
  },
  {
   "cell_type": "code",
   "execution_count": 4,
   "id": "42be7b7d-3fba-4654-bb9e-2e6819516dec",
   "metadata": {},
   "outputs": [],
   "source": [
    "def finddaysinfilename(fn,pattern):\n",
    "    string=re.search(pattern,fn).group()\n",
    "    emp_str=\"\"\n",
    "    for m in string:\n",
    "        if m.isdigit():\n",
    "            emp_str=emp_str+m\n",
    "    return emp_str"
   ]
  },
  {
   "cell_type": "markdown",
   "id": "d3e8f3a2-5d90-461c-bc64-7be49ff956e2",
   "metadata": {},
   "source": [
    "## Create a dataframe that groups the filename in 10-days period"
   ]
  },
  {
   "cell_type": "code",
   "execution_count": 5,
   "id": "8f01bfd9-c95b-4ab7-b8bf-c630e25d57ad",
   "metadata": {},
   "outputs": [],
   "source": [
    "def Create_dataframe(directory,filestart,filend='tif',dayspattern='jd\\d\\d\\d\\d'):\n",
    "    files=os.listdir(directory)\n",
    "    vis_fn=[os.path.join(directory,f) for f in files if (f.startswith(filestart) and f.endswith(filend))]\n",
    "    visdayslist= [finddaysinfilename(f,dayspattern) for f in vis_fn]\n",
    "    data = {'filename':vis_fn,\n",
    "        'julian10days':visdayslist}\n",
    "    df=pd.DataFrame(data)\n",
    "    grouped=df.groupby(['julian10days'])\n",
    "    return df,grouped"
   ]
  },
  {
   "cell_type": "code",
   "execution_count": 6,
   "id": "8e626400-6d7f-43f6-bce4-e244ee3d3024",
   "metadata": {},
   "outputs": [],
   "source": [
    "def writemosaic(input_list,out_fp):\n",
    "    src_files_to_mosaic = []\n",
    "    for f in list(input_list):\n",
    "        src=rasterio.open(f)\n",
    "        src_files_to_mosaic.append(src)\n",
    "    mosaic, out_trans = merge(src_files_to_mosaic,nodata=int(src.nodata))\n",
    "    out_meta = src.meta.copy()\n",
    "\n",
    "    # Update the metadata\n",
    "    out_meta.update({\"driver\": out_meta.get('driver'),\n",
    "                  \"height\": mosaic.shape[1],\n",
    "                  \"width\": mosaic.shape[2],\n",
    "                  \"transform\": out_trans,\n",
    "                  \"nodata\":int(src.nodata),\n",
    "                 }\n",
    "                )\n",
    "    with rasterio.open(out_fp, \"w\", **out_meta) as dest:\n",
    "        dest.write(mosaic)\n",
    "    return (int(src.nodata),src.read_crs())"
   ]
  },
  {
   "cell_type": "code",
   "execution_count": 7,
   "id": "74e66793-1aca-4115-982d-4a339582e42c",
   "metadata": {},
   "outputs": [],
   "source": [
    "def reproject_resample_mosaic(inputfn,outputfn,MODISsrs,nodata,\n",
    "                              ECOSGres=0.00277777777777,ECOSGnodata=0,ECOSGepsg='EPSG:4326'):\n",
    "    ds=gdal.Open(inputfn)\n",
    "    opt=gdal.WarpOptions(srcSRS=MODISsrs,dstSRS=ECOSGepsg,srcNodata=nodata,dstNodata=ECOSGnodata,xRes=ECOSGres,yRes=-ECOSGres)\n",
    "    gdal.Warp(outputfn,ds,options=opt)\n",
    "    return"
   ]
  },
  {
   "cell_type": "code",
   "execution_count": 8,
   "id": "7be620e5-89bd-4198-8e4f-8813c7a20ab8",
   "metadata": {},
   "outputs": [],
   "source": [
    "def Loopover(grouped,outdir,filestart):\n",
    "    for name,group in grouped:\n",
    "        output_fn=filestart+str(name)+'.tif'\n",
    "        input_list=list(group.filename.values)\n",
    "        nodata,transfo=writemosaic(input_list,os.path.join(outdir,output_fn))\n",
    "        ECOSGproj_fn=output_fn.replace('.tif','ecosgproj.tif')\n",
    "        reproject_resample_mosaic(os.path.join(outdir,output_fn),os.path.join(outdir,ECOSGproj_fn),transfo,nodata)\n",
    "        print(ECOSGproj_fn)\n",
    "    return(len(os.listdir(outdir)))"
   ]
  },
  {
   "cell_type": "markdown",
   "id": "33f7115d-6f0b-491c-9188-5049e2ad25f1",
   "metadata": {},
   "source": [
    "# Main"
   ]
  },
  {
   "cell_type": "code",
   "execution_count": 9,
   "id": "d7cc8e40-88af-4520-a250-30836f96b543",
   "metadata": {},
   "outputs": [],
   "source": [
    "visdf,vis_gr=Create_dataframe(directory,'vis_h',filend='tif',dayspattern='jd\\d\\d\\d\\d')\n",
    "vis_sf_df,vis_sf_gr=Create_dataframe(directory,'vis_sf_h',filend='tif',dayspattern='jd\\d\\d\\d\\d')\n",
    "nirdf,nir_gr=Create_dataframe(directory,'nir_h',filend='tif',dayspattern='jd\\d\\d\\d\\d')\n",
    "nir_sf_df,nir_sf_gr=Create_dataframe(directory,'nir_sf_h',filend='tif',dayspattern='jd\\d\\d\\d\\d')"
   ]
  },
  {
   "cell_type": "code",
   "execution_count": 10,
   "id": "b36a0898-5d6a-4b42-a25e-f029487725a2",
   "metadata": {},
   "outputs": [],
   "source": [
    "if not os.path.isdir(outputdir):\n",
    "    os.mkdir(outputdir)"
   ]
  },
  {
   "cell_type": "code",
   "execution_count": 11,
   "id": "7a81fd3f-4545-4265-b527-b3151a10ffe0",
   "metadata": {},
   "outputs": [
    {
     "name": "stdout",
     "output_type": "stream",
     "text": [
      "mosaic_VIS0625ecosgproj.tif\n",
      "mosaic_VIS0705ecosgproj.tif\n",
      "mosaic_VIS0715ecosgproj.tif\n",
      "mosaic_VIS0725ecosgproj.tif\n",
      "mosaic_VIS0805ecosgproj.tif\n",
      "mosaic_VIS0815ecosgproj.tif\n",
      "mosaic_VIS0825ecosgproj.tif\n",
      "mosaic_VIS0905ecosgproj.tif\n",
      "mosaic_VIS_SF0625ecosgproj.tif\n",
      "mosaic_VIS_SF0705ecosgproj.tif\n",
      "mosaic_VIS_SF0715ecosgproj.tif\n",
      "mosaic_VIS_SF0725ecosgproj.tif\n",
      "mosaic_VIS_SF0805ecosgproj.tif\n",
      "mosaic_VIS_SF0815ecosgproj.tif\n",
      "mosaic_VIS_SF0825ecosgproj.tif\n",
      "mosaic_VIS_SF0905ecosgproj.tif\n",
      "mosaic_NIR0625ecosgproj.tif\n",
      "mosaic_NIR0705ecosgproj.tif\n",
      "mosaic_NIR0715ecosgproj.tif\n",
      "mosaic_NIR0725ecosgproj.tif\n",
      "mosaic_NIR0805ecosgproj.tif\n",
      "mosaic_NIR0815ecosgproj.tif\n",
      "mosaic_NIR0825ecosgproj.tif\n",
      "mosaic_NIR0905ecosgproj.tif\n"
     ]
    },
    {
     "data": {
      "text/plain": [
       "48"
      ]
     },
     "execution_count": 11,
     "metadata": {},
     "output_type": "execute_result"
    }
   ],
   "source": [
    "Loopover(vis_gr,outputdir,'mosaic_VIS')\n",
    "Loopover(vis_sf_gr,outputdir,'mosaic_VIS_SF')\n",
    "Loopover(nir_gr,outputdir,'mosaic_NIR')\n",
    "Loopover(nir_sf_gr,outputdir,'mosaic_NIR_SF')"
   ]
  },
  {
   "cell_type": "code",
   "execution_count": 13,
   "id": "3c42798a-b2c7-4403-a4f0-d1d30892b591",
   "metadata": {},
   "outputs": [
    {
     "data": {
      "text/html": [
       "<div>\n",
       "<style scoped>\n",
       "    .dataframe tbody tr th:only-of-type {\n",
       "        vertical-align: middle;\n",
       "    }\n",
       "\n",
       "    .dataframe tbody tr th {\n",
       "        vertical-align: top;\n",
       "    }\n",
       "\n",
       "    .dataframe thead th {\n",
       "        text-align: right;\n",
       "    }\n",
       "</style>\n",
       "<table border=\"1\" class=\"dataframe\">\n",
       "  <thead>\n",
       "    <tr style=\"text-align: right;\">\n",
       "      <th></th>\n",
       "      <th>filename</th>\n",
       "      <th>julian10days</th>\n",
       "    </tr>\n",
       "  </thead>\n",
       "  <tbody>\n",
       "  </tbody>\n",
       "</table>\n",
       "</div>"
      ],
      "text/plain": [
       "Empty DataFrame\n",
       "Columns: [filename, julian10days]\n",
       "Index: []"
      ]
     },
     "execution_count": 13,
     "metadata": {},
     "output_type": "execute_result"
    }
   ],
   "source": [
    "nir_sf_df"
   ]
  },
  {
   "cell_type": "code",
   "execution_count": null,
   "id": "151d67c9-80ff-4117-b8a5-9984e6d76587",
   "metadata": {},
   "outputs": [],
   "source": []
  }
 ],
 "metadata": {
  "kernelspec": {
   "display_name": "Python 3 (ipykernel)",
   "language": "python",
   "name": "python3"
  },
  "language_info": {
   "codemirror_mode": {
    "name": "ipython",
    "version": 3
   },
   "file_extension": ".py",
   "mimetype": "text/x-python",
   "name": "python",
   "nbconvert_exporter": "python",
   "pygments_lexer": "ipython3",
   "version": "3.9.6"
  }
 },
 "nbformat": 4,
 "nbformat_minor": 5
}
